{
  "nbformat": 4,
  "nbformat_minor": 0,
  "metadata": {
    "colab": {
      "name": "Resnet_152.ipynb",
      "provenance": [],
      "collapsed_sections": []
    },
    "kernelspec": {
      "name": "python3",
      "display_name": "Python 3"
    },
    "language_info": {
      "name": "python"
    }
  },
  "cells": [
    {
      "cell_type": "code",
      "metadata": {
        "id": "MHBiWcgYwL7l"
      },
      "source": [
        "####"
      ],
      "execution_count": null,
      "outputs": []
    },
    {
      "cell_type": "code",
      "metadata": {
        "id": "PCQmnvZQwORG"
      },
      "source": [
        "import torch\n",
        "import os\n",
        "import torchvision\n",
        "import matplotlib.pyplot as plt\n",
        "import numpy as np\n",
        "from torch import nn\n",
        "from torchsummary import summary\n",
        "import torch.nn.functional as F"
      ],
      "execution_count": null,
      "outputs": []
    },
    {
      "cell_type": "code",
      "metadata": {
        "id": "rdqZtACbxz1H"
      },
      "source": [
        "device = torch.device('cuda' if torch.cuda.is_available() else 'cpu')"
      ],
      "execution_count": null,
      "outputs": []
    },
    {
      "cell_type": "code",
      "metadata": {
        "id": "fZBoTVGiwcMe"
      },
      "source": [
        "class Conv(nn.Module):\n",
        "    def __init__(self , \n",
        "                 in_channels , \n",
        "                 out_channels , \n",
        "                 kernel_size = (3 , 3) , \n",
        "                 stride = (1 , 1) , \n",
        "                 padding = 1 , \n",
        "                 use_norm = True , \n",
        "                 use_activation = True , \n",
        "                 use_dropout = False):\n",
        "        super(Conv , self).__init__()\n",
        "\n",
        "        self.use_norm = use_norm\n",
        "        self.use_activation = use_activation\n",
        "        self.use_dropout = use_dropout\n",
        "        self.conv1 = nn.Conv2d(in_channels , \n",
        "                               out_channels , \n",
        "                               kernel_size , \n",
        "                               stride , \n",
        "                               padding)\n",
        "        if self.use_norm:\n",
        "            self.norm = nn.BatchNorm2d(out_channels)\n",
        "        if self.use_activation:\n",
        "            self.activation = nn.ReLU(inplace=True)\n",
        "        if self.use_dropout:\n",
        "            self.dropout = nn.Dropout()\n",
        "\n",
        "    def forward(self , x):\n",
        "        x = self.conv1(x)\n",
        "        if self.use_norm:\n",
        "            x = self.norm(x)\n",
        "        if self.use_activation:\n",
        "            x = self.activation(x)\n",
        "        if self.use_dropout:\n",
        "            x = self.dropout(x)\n",
        "        return x"
      ],
      "execution_count": null,
      "outputs": []
    },
    {
      "cell_type": "code",
      "metadata": {
        "id": "NaW_QN-LxpOO"
      },
      "source": [
        "conv = Conv(3 , 512).to(device)\n",
        "summary(conv , (3 , 512 , 512))"
      ],
      "execution_count": null,
      "outputs": []
    },
    {
      "cell_type": "code",
      "metadata": {
        "id": "haxq8z_nI_Gh"
      },
      "source": [
        "class Resnet_Block(nn.Module):\n",
        "    def __init__(self , \n",
        "                 in_channels , \n",
        "                 out_channels , \n",
        "                 downsample = False):\n",
        "        super(Resnet_Block , self).__init__()\n",
        "\n",
        "        self.downsample = downsample\n",
        "\n",
        "        if self.downsample:\n",
        "            self.conv1 = Conv(in_channels , \n",
        "                        in_channels , \n",
        "                        kernel_size=(2 , 2) , \n",
        "                        stride=(2 , 2) ,\n",
        "                        padding = 0)\n",
        "            \n",
        "            self.conv_skip = Conv(in_channels ,\n",
        "                            out_channels ,\n",
        "                            kernel_size = (2 ,2) , \n",
        "                            stride = (2 , 2) , \n",
        "                            padding = 0)\n",
        "        else:    \n",
        "            self.conv1 = Conv(in_channels , \n",
        "                            in_channels , \n",
        "                            kernel_size=(1 , 1) , \n",
        "                            stride=(1 , 1) ,\n",
        "                            padding = 0)\n",
        "            \n",
        "            self.conv_skip = Conv(in_channels ,\n",
        "                              out_channels ,\n",
        "                              kernel_size = (1 , 1) , \n",
        "                              stride = (1 ,1) , \n",
        "                              padding = 0)\n",
        "            \n",
        "        self.conv2 = Conv(in_channels , \n",
        "                          in_channels)\n",
        "        \n",
        "        self.conv3 = Conv(in_channels , \n",
        "                          out_channels , \n",
        "                          kernel_size = (1 , 1) , \n",
        "                          stride = (1 , 1) , \n",
        "                          padding = 0)\n",
        "        \n",
        "\n",
        "        \n",
        "    def forward(self , x): \n",
        "        x_ = x.clone()\n",
        "        x = self.conv1(x)\n",
        "        x = self.conv2(x)\n",
        "        x = self.conv3(x)\n",
        "        x_ = self.conv_skip(x_)\n",
        "        x += x_\n",
        "        return x"
      ],
      "execution_count": null,
      "outputs": []
    },
    {
      "cell_type": "code",
      "metadata": {
        "id": "wdBwElVAJ9wF"
      },
      "source": [
        "x = torch.randn(2 , 3 , 512 , 512).to(device)\n",
        "resnet_block = Resnet_Block(3 , 64 , downsample = True).to(device)\n",
        "z = resnet_block(x)\n",
        "z.shape"
      ],
      "execution_count": null,
      "outputs": []
    },
    {
      "cell_type": "code",
      "metadata": {
        "id": "ZGiLsZQ3UVkf"
      },
      "source": [
        "class Linear(nn.Module):\n",
        "    def __init__(self , \n",
        "                 in_channels , \n",
        "                 out_channels):\n",
        "        super(Linear , self).__init__()\n",
        "        self.linear1 = nn.Linear(in_channels , out_channels)\n",
        "        self.softmax = nn.Softmax(dim = 1)\n",
        "\n",
        "    def forward(self , x):\n",
        "        x = self.linear1(x)\n",
        "        x = self.softmax(x)\n",
        "        return x"
      ],
      "execution_count": null,
      "outputs": []
    },
    {
      "cell_type": "code",
      "metadata": {
        "id": "qD1E3lb3KG3K"
      },
      "source": [
        "class Resnet(nn.Module):\n",
        "    def __init__(self , \n",
        "                 in_channels , \n",
        "                 out_channels):\n",
        "        super(Resnet , self).__init__()\n",
        "\n",
        "        self.conv1 = Conv(in_channels , 64 , kernel_size=(7 , 7) , stride=(2 , 2) , padding=3)\n",
        "\n",
        "        self.conv2 = self._make_repeated_blocks(64 , 256 , 3 , downsample = False)\n",
        "        self.conv3 = self._make_repeated_blocks(256 , 512 , 8)\n",
        "        self.conv4 = self._make_repeated_blocks(512 , 1024 , 36)\n",
        "        self.conv5 = self._make_repeated_blocks(1024 , 2048 , 3)\n",
        "        self.linear = Linear(2048 , out_channels)\n",
        "\n",
        "    def _make_repeated_blocks(self , in_channels , out_channels , repeats , downsample = True):\n",
        "        layers = []\n",
        "        for i in range(repeats):\n",
        "            if i == 0 and downsample == True:\n",
        "                layers.append(Resnet_Block(in_channels , out_channels , downsample=downsample))\n",
        "            elif i == 0:\n",
        "                layers.append(Resnet_Block(in_channels , out_channels))\n",
        "            else:\n",
        "                layers.append(Resnet_Block(out_channels , out_channels))\n",
        "        return nn.Sequential(*layers)\n",
        "\n",
        "    def forward(self , x):\n",
        "        x = self.conv1(x)\n",
        "        x = torch.max_pool2d(x , kernel_size = (2 , 2) , stride = (2 , 2))\n",
        "        x = self.conv2(x)\n",
        "        x = self.conv3(x)\n",
        "        x = self.conv4(x)\n",
        "        x = self.conv5(x)\n",
        "        x = F.adaptive_avg_pool2d(x, (1, 1))\n",
        "        x = x.view(x.shape[0] , x.shape[1])\n",
        "        x = self.linear(x)\n",
        "        return x"
      ],
      "execution_count": null,
      "outputs": []
    },
    {
      "cell_type": "code",
      "metadata": {
        "id": "5VGz21yfUHj0"
      },
      "source": [
        "def test():\n",
        "    resnet = Resnet(3 , 1000).to(device)\n",
        "    x = torch.randn(2 , 3 , 224 , 224).to(device)\n",
        "    z = resnet(x)\n",
        "    print(z.shape)"
      ],
      "execution_count": null,
      "outputs": []
    },
    {
      "cell_type": "code",
      "metadata": {
        "id": "MHQYdCd8Wtcg"
      },
      "source": [
        "test()"
      ],
      "execution_count": null,
      "outputs": []
    },
    {
      "cell_type": "code",
      "metadata": {
        "id": "Y8VuSYXhWvzF"
      },
      "source": [
        ""
      ],
      "execution_count": null,
      "outputs": []
    }
  ]
}