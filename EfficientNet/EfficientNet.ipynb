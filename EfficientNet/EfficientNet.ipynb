{
  "nbformat": 4,
  "nbformat_minor": 0,
  "metadata": {
    "colab": {
      "name": "EfficientNet.ipynb",
      "provenance": []
    },
    "kernelspec": {
      "name": "python3",
      "display_name": "Python 3"
    },
    "language_info": {
      "name": "python"
    }
  },
  "cells": [
    {
      "cell_type": "code",
      "metadata": {
        "id": "YqO9OOrXv70c"
      },
      "source": [
        "####"
      ],
      "execution_count": 1,
      "outputs": []
    },
    {
      "cell_type": "code",
      "metadata": {
        "id": "XmzOU7hEv_IJ"
      },
      "source": [
        "import torch\n",
        "from torch import nn"
      ],
      "execution_count": 2,
      "outputs": []
    },
    {
      "cell_type": "code",
      "metadata": {
        "id": "yku9CdTZwBTu"
      },
      "source": [
        "device = torch.device('cuda' if torch.cuda.is_available() else 'cpu')"
      ],
      "execution_count": 3,
      "outputs": []
    },
    {
      "cell_type": "code",
      "metadata": {
        "id": "n0c9DY-twCxV"
      },
      "source": [
        "\n",
        "class Conv(nn.Module):\n",
        "    def __init__(self , \n",
        "                 in_channels , \n",
        "                 out_channels , \n",
        "                 kernel_size = (3 , 3) , \n",
        "                 stride = (1 , 1) , \n",
        "                 padding = 1 , \n",
        "                 use_norm = True , \n",
        "                 use_activation = True , \n",
        "                 use_grps = False):\n",
        "        super(Conv , self).__init__()\n",
        "\n",
        "        self.use_norm = use_norm\n",
        "        self.use_activation = use_activation\n",
        "        \n",
        "        groups = out_channels if use_grps else 1\n",
        "        self.conv1 = nn.Conv2d(in_channels , \n",
        "                               out_channels , \n",
        "                               kernel_size , \n",
        "                               stride , \n",
        "                               padding , \n",
        "                               groups = groups)\n",
        "        if self.use_norm:\n",
        "            self.norm = nn.BatchNorm2d(out_channels)\n",
        "        if self.use_activation:\n",
        "            self.relu = nn.ReLU6()\n",
        "\n",
        "    def forward(self , x):\n",
        "        x = self.conv1(x)\n",
        "        if self.use_norm:\n",
        "            x = self.norm(x)\n",
        "        if self.use_activation:\n",
        "            x = self.relu(x)\n",
        "        return x"
      ],
      "execution_count": 4,
      "outputs": []
    },
    {
      "cell_type": "code",
      "metadata": {
        "id": "RFS1gzNowEo4"
      },
      "source": [
        "class SqueezeExcitation(nn.Module):\n",
        "    def __init__(self , \n",
        "                 in_channels , \n",
        "                 out_channels):\n",
        "        super(SqueezeExcitation , self).__init__()\n",
        "\n",
        "        self.adp_avg_pool = nn.AdaptiveAvgPool2d(1)\n",
        "        self.conv1 = Conv(in_channels , out_channels , kernel_size=(1 , 1) , padding=0)\n",
        "        self.silu = nn.SiLU()\n",
        "        self.conv2 = Conv(out_channels , in_channels , kernel_size=(1 , 1) , padding=0)\n",
        "        self.sigmoid = nn.Sigmoid()\n",
        "\n",
        "    def forward(self , x):\n",
        "        x_ = x.clone()\n",
        "        x = self.adp_avg_pool(x)\n",
        "        x = self.conv1(x)\n",
        "        x = self.silu(x)\n",
        "        x = self.conv2(x)\n",
        "        x = self.sigmoid(x)\n",
        "        x = x * x_\n",
        "        return x"
      ],
      "execution_count": 5,
      "outputs": []
    },
    {
      "cell_type": "code",
      "metadata": {
        "id": "HR8LnbFGwH6-"
      },
      "source": [
        "class Inverted_Res_Block(nn.Module):\n",
        "    def __init__(self , \n",
        "                 in_channels , \n",
        "                 out_channels , \n",
        "                 t , \n",
        "                 padding , \n",
        "                 kernel_size , \n",
        "                 stride , \n",
        "                 reduction = 0.4 ,  \n",
        "                 ):\n",
        "        super(Inverted_Res_Block , self).__init__()\n",
        "        \n",
        "        self.use_residual = in_channels == out_channels and stride == 1\n",
        "        hidden_dim = in_channels * t\n",
        "        self.conv1 = Conv(in_channels , hidden_dim , kernel_size=(1 , 1) , stride=(1 , 1) , padding=0)\n",
        "        self.conv2 = Conv(hidden_dim , hidden_dim , kernel_size=kernel_size , stride=stride , use_grps=True , padding=padding)\n",
        "        self.conv3 = Conv(hidden_dim , out_channels , kernel_size=(1 , 1) , stride=(1 , 1) , padding=0)\n",
        "\n",
        "        reduced_dim = int(in_channels / reduction)\n",
        "        self.squeeze_excitation = SqueezeExcitation(out_channels , reduced_dim)\n",
        "\n",
        "    def forward(self , x):\n",
        "        x_ = x.clone()\n",
        "        x = self.conv1(x)\n",
        "        x = self.conv2(x)\n",
        "        x = self.conv3(x)\n",
        "        x = self.squeeze_excitation(x)\n",
        "        if self.use_residual:\n",
        "            return x + x_\n",
        "        else :\n",
        "            return x"
      ],
      "execution_count": 6,
      "outputs": []
    },
    {
      "cell_type": "code",
      "metadata": {
        "id": "Q01WsDsXwKOY"
      },
      "source": [
        "\n",
        "config = [\n",
        "    # expand_ratio, channels, repeats, stride, kernel_size\n",
        "    [1, 16, 1, 1, 3],\n",
        "    [6, 24, 2, 2, 3],\n",
        "    [6, 40, 2, 2, 3],\n",
        "    'S' , \n",
        "    [6, 80, 3, 2, 3],\n",
        "    'S' , \n",
        "    [6, 112, 3, 1, 3],\n",
        "    'S' , \n",
        "    [6, 192, 4, 2, 3],\n",
        "    'S' , \n",
        "    [6, 320, 1, 1, 3],\n",
        "    'S'\n",
        "]\n",
        "\n",
        "phi_values = {\n",
        "    # tuple of: (phi_value, resolution, drop_rate)\n",
        "    \"b0\": (0, 224, 0.2),  \n",
        "    \"b1\": (0.5, 240, 0.2),\n",
        "    \"b2\": (1, 260, 0.3),\n",
        "    \"b3\": (2, 300, 0.3),\n",
        "    \"b4\": (3, 380, 0.4),\n",
        "    \"b5\": (4, 456, 0.4),\n",
        "    \"b6\": (5, 528, 0.5),\n",
        "    \"b7\": (6, 600, 0.5),\n",
        "}"
      ],
      "execution_count": 11,
      "outputs": []
    },
    {
      "cell_type": "code",
      "metadata": {
        "id": "jyKgmCTvw9jS"
      },
      "source": [
        "class Save_Block(nn.Module):\n",
        "    def __init__(self):\n",
        "        super(Save_Block , self).__init__()\n",
        "\n",
        "    def forward(self , x):\n",
        "        return x"
      ],
      "execution_count": 12,
      "outputs": []
    },
    {
      "cell_type": "code",
      "metadata": {
        "id": "TlZLLbS12wj9"
      },
      "source": [
        "class Efficient_Net(nn.Module):\n",
        "    def __init__(self , \n",
        "                 in_channels , \n",
        "                 version , \n",
        "                 out_channels_model , \n",
        "                 config=config, \n",
        "                 phi_values=phi_values):\n",
        "        super(Efficient_Net , self).__init__()\n",
        "\n",
        "        self.config=config\n",
        "        self.phi_values = phi_values\n",
        "        depth_factor , width_factor = self._get_scale_params(version)\n",
        "        out_channels = int(1280 * width_factor)\n",
        "\n",
        "        self.layers = self._get_layers(depth_factor , width_factor , out_channels)\n",
        "\n",
        "        self.cls = nn.Linear(out_channels , out_channels_model)\n",
        "        self.adp_avg_pool = nn.AdaptiveAvgPool2d(1)\n",
        "\n",
        "    def _get_layers(self , depth_factor , width_factor , out_channels_model):\n",
        "        layers = nn.ModuleList()\n",
        "        \n",
        "        channels = int(32 * width_factor)\n",
        "        layers.append(Conv(3 , channels , stride=(2 , 2)))\n",
        "        in_channels = channels\n",
        "        for layer in config:\n",
        "            if isinstance(layer , list):\n",
        "                t , out_channels , repeats , stride , kernel_size = layer\n",
        "                out_channels = 4 * int(int(out_channels * width_factor)/4)\n",
        "                repeats = int(repeats * depth_factor)\n",
        "\n",
        "                for repeat in range(repeats):\n",
        "                    layers.append(\n",
        "                        Inverted_Res_Block(\n",
        "                            in_channels , \n",
        "                            out_channels , \n",
        "                            t , \n",
        "                            stride = stride if repeat == 0 else 1 , \n",
        "                            kernel_size = kernel_size , \n",
        "                            padding = kernel_size // 2\n",
        "                        )\n",
        "                    )\n",
        "                    in_channels = out_channels\n",
        "            elif isinstance(layer , str):\n",
        "                layers.append(Save_Block())\n",
        "        layers.append(Conv(in_channels , out_channels_model , kernel_size=(1 , 1) , stride=(1 , 1) , padding=0))\n",
        "        return layers\n",
        "\n",
        "    def _get_scale_params(self , version , alpha=1.2 , beta=1.1):\n",
        "        phi_value , resolution , drop_rate = self.phi_values[version]\n",
        "        depth_factor = alpha ** phi_value\n",
        "        width_factor = beta ** phi_value\n",
        "        return depth_factor , width_factor\n",
        "\n",
        "    def forward(self , x):\n",
        "        x_out = []\n",
        "        for layer in self.layers:\n",
        "            if isinstance(layer , Save_Block):\n",
        "                x_out.append(x)\n",
        "            x = layer(x)\n",
        "        return x_out"
      ],
      "execution_count": 13,
      "outputs": []
    },
    {
      "cell_type": "code",
      "metadata": {
        "colab": {
          "base_uri": "https://localhost:8080/"
        },
        "id": "ByuY-mXPwOot",
        "outputId": "a5f8afb5-6554-47a8-d0fa-000865eadd56"
      },
      "source": [
        "def test():\n",
        "    version = \"b0\"\n",
        "    phi, res, drop_rate = phi_values[version]\n",
        "    num_examples, num_classes = 4, 10\n",
        "    x = torch.randn((num_examples, 3, res, res)).to(device)\n",
        "    model = Efficient_Net(\n",
        "        version=version,\n",
        "        out_channels_model=num_classes,\n",
        "        in_channels = 3\n",
        "    ).to(device)\n",
        "\n",
        "    x = model(x)\n",
        "    for x_ in x:\n",
        "        print(x_.shape)\n",
        "test()"
      ],
      "execution_count": 14,
      "outputs": [
        {
          "output_type": "stream",
          "name": "stdout",
          "text": [
            "torch.Size([4, 40, 28, 28])\n",
            "torch.Size([4, 80, 14, 14])\n",
            "torch.Size([4, 112, 14, 14])\n",
            "torch.Size([4, 192, 7, 7])\n",
            "torch.Size([4, 320, 7, 7])\n"
          ]
        }
      ]
    },
    {
      "cell_type": "code",
      "metadata": {
        "id": "I3HC9asawRSm"
      },
      "source": [
        ""
      ],
      "execution_count": 10,
      "outputs": []
    }
  ]
}