{
  "nbformat": 4,
  "nbformat_minor": 0,
  "metadata": {
    "colab": {
      "name": "Efficient_Net.ipynb",
      "provenance": [],
      "collapsed_sections": []
    },
    "kernelspec": {
      "name": "python3",
      "display_name": "Python 3"
    },
    "language_info": {
      "name": "python"
    }
  },
  "cells": [
    {
      "cell_type": "code",
      "metadata": {
        "id": "S_DmmwKG0Q0W"
      },
      "source": [
        "####"
      ],
      "execution_count": 1,
      "outputs": []
    },
    {
      "cell_type": "code",
      "metadata": {
        "id": "sQulIa_P0niQ"
      },
      "source": [
        "import torch\n",
        "from torch import nn"
      ],
      "execution_count": 2,
      "outputs": []
    },
    {
      "cell_type": "code",
      "metadata": {
        "id": "g0nWS70-4vad"
      },
      "source": [
        "device = torch.device('cuda' if torch.cuda.is_available() else 'cpu')"
      ],
      "execution_count": 11,
      "outputs": []
    },
    {
      "cell_type": "code",
      "metadata": {
        "id": "xI8cqVW60pAS"
      },
      "source": [
        "\n",
        "class Conv(nn.Module):\n",
        "    def __init__(self , \n",
        "                 in_channels , \n",
        "                 out_channels , \n",
        "                 kernel_size = (3 , 3) , \n",
        "                 stride = (1 , 1) , \n",
        "                 padding = 1 , \n",
        "                 use_norm = True , \n",
        "                 use_activation = True , \n",
        "                 use_grps = False):\n",
        "        super(Conv , self).__init__()\n",
        "\n",
        "        self.use_norm = use_norm\n",
        "        self.use_activation = use_activation\n",
        "        \n",
        "        groups = out_channels if use_grps else 1\n",
        "        self.conv1 = nn.Conv2d(in_channels , \n",
        "                               out_channels , \n",
        "                               kernel_size , \n",
        "                               stride , \n",
        "                               padding , \n",
        "                               groups = groups)\n",
        "        if self.use_norm:\n",
        "            self.norm = nn.BatchNorm2d(out_channels)\n",
        "        if self.use_activation:\n",
        "            self.relu = nn.ReLU6()\n",
        "\n",
        "    def forward(self , x):\n",
        "        x = self.conv1(x)\n",
        "        if self.use_norm:\n",
        "            x = self.norm(x)\n",
        "        if self.use_activation:\n",
        "            x = self.relu(x)\n",
        "        return x"
      ],
      "execution_count": 3,
      "outputs": []
    },
    {
      "cell_type": "code",
      "metadata": {
        "id": "3aNEwhm46miz"
      },
      "source": [
        "class SqueezeExcitation(nn.Module):\n",
        "    def __init__(self , \n",
        "                 in_channels , \n",
        "                 out_channels):\n",
        "        super(SqueezeExcitation , self).__init__()\n",
        "\n",
        "        self.adp_avg_pool = nn.AdaptiveAvgPool2d(1)\n",
        "        self.conv1 = Conv(in_channels , out_channels , kernel_size=(1 , 1) , padding=0)\n",
        "        self.silu = nn.SiLU()\n",
        "        self.conv2 = Conv(out_channels , in_channels , kernel_size=(1 , 1) , padding=0)\n",
        "        self.sigmoid = nn.Sigmoid()\n",
        "\n",
        "    def forward(self , x):\n",
        "        x_ = x.clone()\n",
        "        x = self.adp_avg_pool(x)\n",
        "        x = self.conv1(x)\n",
        "        x = self.silu(x)\n",
        "        x = self.conv2(x)\n",
        "        x = self.sigmoid(x)\n",
        "        x = x * x_\n",
        "        return x"
      ],
      "execution_count": 40,
      "outputs": []
    },
    {
      "cell_type": "code",
      "metadata": {
        "id": "F8J42ymV03ry"
      },
      "source": [
        "class Inverted_Res_Block(nn.Module):\n",
        "    def __init__(self , \n",
        "                 in_channels , \n",
        "                 out_channels , \n",
        "                 t , \n",
        "                 stride = (1 , 1) , \n",
        "                 reduction = 0.4):\n",
        "        super(Inverted_Res_Block , self).__init__()\n",
        "        \n",
        "        self.use_residual = in_channels == out_channels and stride == 1\n",
        "        hidden_dim = in_channels * t\n",
        "        self.conv1 = Conv(in_channels , hidden_dim , kernel_size=(1 , 1) , stride=(1 , 1) , padding=0)\n",
        "        self.conv2 = Conv(hidden_dim , hidden_dim , stride=stride , use_grps=True)\n",
        "        self.conv3 = Conv(hidden_dim , out_channels , kernel_size=(1 , 1) , stride=(1 , 1) , padding=0)\n",
        "\n",
        "        reduced_dim = int(in_channels / reduction)\n",
        "        self.squeeze_excitation = SqueezeExcitation(out_channels , reduced_dim)\n",
        "\n",
        "    def forward(self , x):\n",
        "        x_ = x.clone()\n",
        "        x = self.conv1(x)\n",
        "        x = self.conv2(x)\n",
        "        x = self.conv3(x)\n",
        "        x = self.squeeze_excitation(x)\n",
        "        if self.use_residual:\n",
        "            return x + x_\n",
        "        else :\n",
        "            return x"
      ],
      "execution_count": 41,
      "outputs": []
    },
    {
      "cell_type": "code",
      "metadata": {
        "id": "lSWM4ZqP04Eq"
      },
      "source": [
        "\n",
        "config = [\n",
        "    # expand_ratio, channels, repeats, stride, kernel_size\n",
        "    [1, 16, 1, 1, 3],\n",
        "    [6, 24, 2, 2, 3],\n",
        "    [6, 40, 2, 2, 5],\n",
        "    [6, 80, 3, 2, 3],\n",
        "    [6, 112, 3, 1, 5],\n",
        "    [6, 192, 4, 2, 5],\n",
        "    [6, 320, 1, 1, 3],\n",
        "]\n",
        "\n",
        "phi_values = {\n",
        "    # tuple of: (phi_value, resolution, drop_rate)\n",
        "    \"b0\": (0, 224, 0.2),  \n",
        "    \"b1\": (0.5, 240, 0.2),\n",
        "    \"b2\": (1, 260, 0.3),\n",
        "    \"b3\": (2, 300, 0.3),\n",
        "    \"b4\": (3, 380, 0.4),\n",
        "    \"b5\": (4, 456, 0.4),\n",
        "    \"b6\": (5, 528, 0.5),\n",
        "    \"b7\": (6, 600, 0.5),\n",
        "}"
      ],
      "execution_count": 42,
      "outputs": []
    },
    {
      "cell_type": "code",
      "metadata": {
        "id": "wjB7k_u51E-W"
      },
      "source": [
        "class Efficient_Net(nn.Module):\n",
        "    def __init__(self , \n",
        "                 in_channels , \n",
        "                 version , \n",
        "                 out_channels_model , \n",
        "                 config=config, \n",
        "                 phi_values=phi_values):\n",
        "        super(Efficient_Net , self).__init__()\n",
        "\n",
        "        self.config=config\n",
        "        self.phi_values = phi_values\n",
        "        depth_factor , width_factor = self._get_scale_params(version)\n",
        "        out_channels = int(1280 * width_factor)\n",
        "\n",
        "        self.layers = self._get_layers(depth_factor , width_factor , out_channels)\n",
        "\n",
        "        self.cls = nn.Linear(out_channels , out_channels_model)\n",
        "        self.adp_avg_pool = nn.AdaptiveAvgPool2d(1)\n",
        "\n",
        "    def _get_layers(self , depth_factor , width_factor , out_channels_model):\n",
        "        layers = nn.ModuleList()\n",
        "        \n",
        "        channels = int(32 * width_factor)\n",
        "        layers.append(Conv(3 , channels , stride=(2 , 2)))\n",
        "        in_channels = channels\n",
        "        for layer in config:\n",
        "            t , out_channels , repeats , stride , kernel_size = layer\n",
        "            out_channels = 4 * int(int(out_channels * width_factor)/4)\n",
        "            repeats = int(repeats * depth_factor)\n",
        "\n",
        "            for _ in range(repeats):\n",
        "                layers.append(\n",
        "                    Inverted_Res_Block(\n",
        "                        in_channels , \n",
        "                        out_channels , \n",
        "                        t , \n",
        "                        stride\n",
        "                    )\n",
        "                )\n",
        "                in_channels = out_channels\n",
        "        layers.append(Conv(in_channels , out_channels_model , kernel_size=(1 , 1) , stride=(1 , 1) , padding=0))\n",
        "        return layers\n",
        "\n",
        "    def _get_scale_params(self , version , alpha=1.2 , beta=1.1):\n",
        "        phi_value , resolution , drop_rate = self.phi_values[version]\n",
        "        depth_factor = alpha ** phi_value\n",
        "        width_factor = beta ** phi_value\n",
        "        return depth_factor , width_factor\n",
        "\n",
        "    def forward(self , x):\n",
        "        for layer in self.layers:\n",
        "            x = layer(x)\n",
        "        x = self.adp_avg_pool(x)\n",
        "        x = self.cls(x.squeeze(-1).squeeze(-1))\n",
        "        return x"
      ],
      "execution_count": 51,
      "outputs": []
    },
    {
      "cell_type": "code",
      "metadata": {
        "colab": {
          "base_uri": "https://localhost:8080/"
        },
        "id": "q4mQcHYq4l4o",
        "outputId": "006c8a9a-5ec6-40c3-8036-a6886e6f4629"
      },
      "source": [
        "def test():\n",
        "    version = \"b7\"\n",
        "    phi, res, drop_rate = phi_values[version]\n",
        "    num_examples, num_classes = 4, 10\n",
        "    x = torch.randn((num_examples, 3, res, res)).to(device)\n",
        "    model = Efficient_Net(\n",
        "        version=version,\n",
        "        out_channels_model=num_classes,\n",
        "        in_channels = 3\n",
        "    ).to(device)\n",
        "\n",
        "    print(model(x).shape)\n",
        "\n",
        "test()"
      ],
      "execution_count": 55,
      "outputs": [
        {
          "output_type": "stream",
          "name": "stdout",
          "text": [
            "torch.Size([4, 10])\n"
          ]
        }
      ]
    },
    {
      "cell_type": "code",
      "metadata": {
        "id": "NI1ZiQe24t77"
      },
      "source": [
        ""
      ],
      "execution_count": 47,
      "outputs": []
    }
  ]
}