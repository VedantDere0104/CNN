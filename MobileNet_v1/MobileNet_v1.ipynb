{
  "nbformat": 4,
  "nbformat_minor": 0,
  "metadata": {
    "colab": {
      "name": "MobileNet_v1.ipynb",
      "provenance": [],
      "collapsed_sections": []
    },
    "kernelspec": {
      "name": "python3",
      "display_name": "Python 3"
    },
    "language_info": {
      "name": "python"
    }
  },
  "cells": [
    {
      "cell_type": "code",
      "metadata": {
        "id": "I1gP7wARr-04"
      },
      "source": [
        "####"
      ],
      "execution_count": 1,
      "outputs": []
    },
    {
      "cell_type": "code",
      "metadata": {
        "id": "RMW932O-sDnX"
      },
      "source": [
        "import torch\n",
        "from torch import nn"
      ],
      "execution_count": 2,
      "outputs": []
    },
    {
      "cell_type": "code",
      "metadata": {
        "id": "Kyo1E2A6ugSi"
      },
      "source": [
        "device = torch.device('cuda' if torch.cuda.is_available() else 'cpu')"
      ],
      "execution_count": 6,
      "outputs": []
    },
    {
      "cell_type": "code",
      "metadata": {
        "id": "LTMyckMUsPfP"
      },
      "source": [
        "class Conv(nn.Module):\n",
        "    def __init__(self , \n",
        "                 in_channels , \n",
        "                 out_channels , \n",
        "                 kernel_size = (3 , 3) , \n",
        "                 stride = (1 , 1) , \n",
        "                 padding = 1 , \n",
        "                 use_norm = True , \n",
        "                 use_activation = True , \n",
        "                 groups = False , \n",
        "                 width_multiplier = 1):\n",
        "        super(Conv , self).__init__()\n",
        "\n",
        "        \n",
        "        self.use_norm = use_norm\n",
        "        self.use_activation = use_activation\n",
        "\n",
        "        \n",
        "        out_channels = out_channels if groups else int(out_channels * width_multiplier)\n",
        "        grps = in_channels if groups else 1\n",
        "        self.conv1 = nn.Conv2d(in_channels , out_channels , kernel_size , stride , padding , groups=grps)\n",
        "\n",
        "        if self.use_norm:\n",
        "            self.norm = nn.BatchNorm2d(out_channels)\n",
        "\n",
        "        if self.use_activation:\n",
        "            self.activation = nn.LeakyReLU(0.2)\n",
        "\n",
        "    def forward(self , x):\n",
        "        x = self.conv1(x)\n",
        "        if self.use_norm:\n",
        "            x = self.norm(x)\n",
        "        if self.use_activation:\n",
        "            x = self.activation(x)\n",
        "        return x"
      ],
      "execution_count": 22,
      "outputs": []
    },
    {
      "cell_type": "code",
      "metadata": {
        "id": "Ybc9rFkytSB4"
      },
      "source": [
        "class MobileNet_Block(nn.Module):\n",
        "    def __init__(self , \n",
        "                 in_channels , \n",
        "                 out_channels , \n",
        "                 stride=(1 , 1) , \n",
        "                 width_multiplier = 1):\n",
        "        super(MobileNet_Block , self).__init__()\n",
        "\n",
        "        self.conv1 = Conv(in_channels , \n",
        "                          in_channels , \n",
        "                          groups=True , \n",
        "                          width_multiplier=width_multiplier)\n",
        "        self.conv2 = Conv(in_channels , \n",
        "                          out_channels , \n",
        "                          kernel_size=(1 , 1) , \n",
        "                          stride=stride , \n",
        "                          padding = 0 , \n",
        "                          width_multiplier=width_multiplier)\n",
        "        \n",
        "    def forward(self , x):\n",
        "        x = self.conv1(x)\n",
        "        x = self.conv2(x)\n",
        "        return x"
      ],
      "execution_count": 23,
      "outputs": []
    },
    {
      "cell_type": "code",
      "metadata": {
        "id": "0lI3AZDDub3d"
      },
      "source": [
        "x = torch.randn(2 , 3 , 224 , 224).to(device)\n",
        "eb = MobileNet_Block(3 , 32 , stride=2 , width_multiplier=1).to(device)\n",
        "z = eb(x)\n",
        "z.shape"
      ],
      "execution_count": null,
      "outputs": []
    },
    {
      "cell_type": "code",
      "metadata": {
        "id": "5yp_8fA-zVsc"
      },
      "source": [
        "dw = 0.7\n",
        "config = [\n",
        "          # [out_channels ,  stride ,  width_multiplier]\n",
        "          # Tuple for repeated block\n",
        "          [32 , (1 , 1) , dw ] , \n",
        "          [32 , (1 , 1) , 1] , \n",
        "          [64 , (2 , 2) , dw] , \n",
        "          [128 , (1 , 1) , 1] , \n",
        "          [128 , (1 , 1) , dw] , \n",
        "          [128 , (1 , 1) , 1] , \n",
        "          [128 , (2 , 2) , dw] , \n",
        "          [256 , (1 , 1) , 1] , \n",
        "          [256 , (1 , 1) , dw] , \n",
        "          [256 , (1 , 1) , 1] , \n",
        "          [256 , (2 , 2) , dw] ,\n",
        "          (5 , 512 , (1 , 1) , dw) ,  \n",
        "          [512 , (2 , 2) , 1] , \n",
        "          [1024 , (1 , 1) , dw] ,\n",
        "          [1024 , (1 , 1) , 1]\n",
        "]"
      ],
      "execution_count": 36,
      "outputs": []
    },
    {
      "cell_type": "code",
      "metadata": {
        "id": "DrS31ayPyZdm"
      },
      "source": [
        "class Mobile_Net(nn.Module):\n",
        "    def __init__(self , \n",
        "                 in_channels , \n",
        "                 out_channels_model , \n",
        "                 config=config):\n",
        "        super(Mobile_Net , self).__init__()\n",
        "        \n",
        "        self.layers = nn.ModuleList()\n",
        "        self.layers.append(MobileNet_Block(in_channels , 32 , stride=(2 , 2)))\n",
        "        in_channels = 32\n",
        "        for layer in config:\n",
        "            if isinstance(layer , list):\n",
        "                out_channels , stride , width_multiplier = layer\n",
        "                self.layers.append(MobileNet_Block(\n",
        "                    in_channels ,\n",
        "                    out_channels , \n",
        "                    stride , \n",
        "                    width_multiplier\n",
        "                ))\n",
        "                in_channels = int(out_channels * width_multiplier)\n",
        "\n",
        "            elif isinstance(layer , tuple):\n",
        "                repeats , out_channels , stride , width_multiplier = layer\n",
        "                in_channels_ = in_channels\n",
        "                for _ in range(repeats):\n",
        "                    self.layers.append(\n",
        "                        MobileNet_Block(in_channels_ , out_channels , width_multiplier=width_multiplier)\n",
        "                    )\n",
        "                    in_channels_ = int(out_channels * width_multiplier)\n",
        "                    self.layers.append(\n",
        "                        MobileNet_Block(in_channels_ , out_channels)\n",
        "                    )\n",
        "                    in_channels_ = out_channels\n",
        "                in_channels = out_channels\n",
        "\n",
        "        self.adaptive_avg_pool = nn.AdaptiveAvgPool2d(1)\n",
        "        self.fc = nn.Linear(in_channels , out_channels_model)\n",
        "    def forward(self , x):\n",
        "        for layer in self.layers:\n",
        "            x = layer(x)\n",
        "        x = self.adaptive_avg_pool(x)\n",
        "        x = self.fc(x.squeeze(-1).squeeze(-1))\n",
        "        return x                "
      ],
      "execution_count": 43,
      "outputs": []
    },
    {
      "cell_type": "code",
      "metadata": {
        "id": "kIV4x5qm40C_"
      },
      "source": [
        "def test():\n",
        "    x = torch.randn(2 , 3 , 224 , 224).to(device)\n",
        "    mobile_net = Mobile_Net(3 , 1000).to(device)\n",
        "    z = mobile_net(x)\n",
        "    print(z.shape)"
      ],
      "execution_count": 47,
      "outputs": []
    },
    {
      "cell_type": "code",
      "metadata": {
        "colab": {
          "base_uri": "https://localhost:8080/"
        },
        "id": "pkpCMcFn4_Au",
        "outputId": "46b9b567-36af-4867-d660-e56314176fdc"
      },
      "source": [
        "test()"
      ],
      "execution_count": 48,
      "outputs": [
        {
          "output_type": "stream",
          "name": "stdout",
          "text": [
            "torch.Size([2, 1000])\n"
          ]
        }
      ]
    },
    {
      "cell_type": "code",
      "metadata": {
        "id": "R7NId3Cd6DAH"
      },
      "source": [
        ""
      ],
      "execution_count": null,
      "outputs": []
    }
  ]
}