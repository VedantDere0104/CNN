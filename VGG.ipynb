{
  "nbformat": 4,
  "nbformat_minor": 0,
  "metadata": {
    "colab": {
      "name": "VGG.ipynb",
      "provenance": [],
      "collapsed_sections": []
    },
    "kernelspec": {
      "name": "python3",
      "display_name": "Python 3"
    },
    "language_info": {
      "name": "python"
    }
  },
  "cells": [
    {
      "cell_type": "code",
      "metadata": {
        "id": "e1Nz-Jb9h_Zu"
      },
      "source": [
        "####"
      ],
      "execution_count": 1,
      "outputs": []
    },
    {
      "cell_type": "code",
      "metadata": {
        "id": "QbfWL4m9iBFF"
      },
      "source": [
        "import torch\n",
        "from torch import nn"
      ],
      "execution_count": 2,
      "outputs": []
    },
    {
      "cell_type": "code",
      "metadata": {
        "id": "LFIcXIzMjTxj"
      },
      "source": [
        "device = torch.device('cuda' if torch.cuda.is_available() else 'cpu')"
      ],
      "execution_count": 4,
      "outputs": []
    },
    {
      "cell_type": "code",
      "metadata": {
        "id": "Rxgg7szTiC0b"
      },
      "source": [
        "class Conv(nn.Module):\n",
        "    def __init__(self ,\n",
        "                 in_channels , \n",
        "                 out_channels , \n",
        "                 kernel_size = (3 , 3) , \n",
        "                 stride = (1 , 1) , \n",
        "                 padding = 1 , \n",
        "                 use_norm = True , \n",
        "                 use_activation = True , \n",
        "                 use_pool = False):\n",
        "        super(Conv , self).__init__()\n",
        "\n",
        "        self.conv1 = nn.Conv2d(in_channels ,\n",
        "                               out_channels ,\n",
        "                               kernel_size , \n",
        "                               stride , \n",
        "                               padding)\n",
        "        self.use_norm = use_norm\n",
        "        self.use_activation = use_activation\n",
        "        self.use_pool = use_pool\n",
        "\n",
        "        if self.use_norm:\n",
        "            self.norm = nn.BatchNorm2d(out_channels)\n",
        "        if self.use_activation:\n",
        "            self.activation = nn.ReLU()\n",
        "        if self.use_pool:\n",
        "            self.maxpool = nn.MaxPool2d(kernel_size = (2 , 2) , stride = (2 , 2))\n",
        "    \n",
        "    def forward(self , x):\n",
        "        x = self.conv1(x)\n",
        "        if self.use_norm:\n",
        "            x = self.norm(x)\n",
        "        if self.use_activation:\n",
        "            x = self.activation(x)\n",
        "        if self.use_pool:\n",
        "            x = self.maxpool(x)\n",
        "        return x"
      ],
      "execution_count": 3,
      "outputs": []
    },
    {
      "cell_type": "code",
      "metadata": {
        "colab": {
          "base_uri": "https://localhost:8080/"
        },
        "id": "__ryH-NPjQqO",
        "outputId": "ce30fdc2-cb5e-418b-95a6-f60975a18be7"
      },
      "source": [
        "x = torch.randn(2 , 3 , 224 , 224).to(device)\n",
        "conv = Conv(3 , 32 , use_pool=True).to(device)\n",
        "z = conv(x)\n",
        "z.shape"
      ],
      "execution_count": 6,
      "outputs": [
        {
          "output_type": "stream",
          "text": [
            "/usr/local/lib/python3.7/dist-packages/torch/nn/functional.py:718: UserWarning: Named tensors and all their associated APIs are an experimental feature and subject to change. Please do not use them for anything important until they are released as stable. (Triggered internally at  /pytorch/c10/core/TensorImpl.h:1156.)\n",
            "  return torch.max_pool2d(input, kernel_size, stride, padding, dilation, ceil_mode)\n"
          ],
          "name": "stderr"
        },
        {
          "output_type": "execute_result",
          "data": {
            "text/plain": [
              "torch.Size([2, 32, 112, 112])"
            ]
          },
          "metadata": {
            "tags": []
          },
          "execution_count": 6
        }
      ]
    },
    {
      "cell_type": "code",
      "metadata": {
        "id": "M1OTOZROjd5b"
      },
      "source": [
        "config = [\n",
        "          # [out_channels , kernel_size , stride , paddin]\n",
        "          [64 , 3 , 1 , 1] , \n",
        "          [128 , 3 , 1 , 1] , \n",
        "          \"M\" , \n",
        "          [128 , 3 , 1 , 1] , \n",
        "          [256 , 3 , 1 , 1] , \n",
        "          \"M\" , \n",
        "          [256 , 3 , 1 , 1] , \n",
        "          [512 , 3 , 1 , 1] , \n",
        "          \"M\" , \n",
        "          [512 , 3 , 1 , 1] ,\n",
        "          [512 , 3 , 1 , 1] ,\n",
        "          [512 , 3 , 1 , 1] ,\n",
        "          \"M\" , \n",
        "          [512 , 3 , 1 , 1] ,\n",
        "          [512 , 3 , 1 , 1] ,\n",
        "          [512 , 3 , 1 , 1] ,\n",
        "          \"M\" , \n",
        "          4096 , \n",
        "          1000\n",
        "]"
      ],
      "execution_count": 7,
      "outputs": []
    },
    {
      "cell_type": "code",
      "metadata": {
        "id": "rhsUFEMdmj_A"
      },
      "source": [
        "class Linear(nn.Module):\n",
        "    def __init__(self ,  \n",
        "                 in_channels , \n",
        "                 out_channels , \n",
        "                 use_norm = True , \n",
        "                 use_activation = True):\n",
        "        super(Linear , self).__init__()\n",
        "\n",
        "        self.linear1 = nn.Linear(in_channels , \n",
        "                                 out_channels)\n",
        "        self.use_norm = use_norm\n",
        "        self.use_activation = use_activation\n",
        "\n",
        "        if self.use_norm:\n",
        "            self.norm = nn.BatchNorm1d(out_channels)\n",
        "        if self.use_activation:\n",
        "            self.activation = nn.ReLU()\n",
        "\n",
        "    def forward(self , x):\n",
        "        x = self.linear1(x)\n",
        "        if self.use_norm:\n",
        "            x = self.norm(x)\n",
        "        if self.use_activation:\n",
        "            x = self.activation(x)\n",
        "        return x"
      ],
      "execution_count": 20,
      "outputs": []
    },
    {
      "cell_type": "code",
      "metadata": {
        "id": "mj2rqrRXk59O"
      },
      "source": [
        "class VGG(nn.Module):\n",
        "    def __init__(self , \n",
        "                 in_channels = 3 , \n",
        "                 out_channels = 1000 , \n",
        "                 config = config):\n",
        "        super(VGG , self).__init__()\n",
        "\n",
        "        self.layers = nn.ModuleList()\n",
        "\n",
        "        for layer in config:\n",
        "            if isinstance(layer , list):\n",
        "                out_channels , kernel_size , stride , padding = layer\n",
        "                self.layers.append(Conv(\n",
        "                    in_channels , \n",
        "                    out_channels , \n",
        "                    kernel_size , \n",
        "                    stride , \n",
        "                    padding\n",
        "                ))\n",
        "                in_channels = out_channels\n",
        "            elif isinstance(layer , str):\n",
        "                self.layers.append(nn.MaxPool2d(kernel_size = (2 , 2) , stride = (2 , 2)))\n",
        "            else:\n",
        "                if layer == 4096:\n",
        "                    self.layers.append(nn.Flatten())\n",
        "                    self.layers.append(Linear(25088 , 4096))\n",
        "                elif layer == 1000:\n",
        "                    self.layers.append(Linear(4096 , 1000 , use_activation = False))\n",
        "                    self.layers.append(nn.Softmax())\n",
        "    def forward(self , x):\n",
        "        for layer in self.layers:\n",
        "            x = layer(x)\n",
        "        return x"
      ],
      "execution_count": 21,
      "outputs": []
    },
    {
      "cell_type": "code",
      "metadata": {
        "colab": {
          "base_uri": "https://localhost:8080/"
        },
        "id": "55MCSPyOl3Ne",
        "outputId": "1ee7d4f0-bc89-4ad5-e15a-5d969174b8d7"
      },
      "source": [
        "x = torch.randn(2 , 3 , 244 , 244).to(device)\n",
        "vgg = VGG().to(device)\n",
        "z = vgg(x)\n",
        "z.shape"
      ],
      "execution_count": 22,
      "outputs": [
        {
          "output_type": "stream",
          "text": [
            "/usr/local/lib/python3.7/dist-packages/ipykernel_launcher.py:32: UserWarning: Implicit dimension choice for softmax has been deprecated. Change the call to include dim=X as an argument.\n"
          ],
          "name": "stderr"
        },
        {
          "output_type": "execute_result",
          "data": {
            "text/plain": [
              "torch.Size([2, 1000])"
            ]
          },
          "metadata": {
            "tags": []
          },
          "execution_count": 22
        }
      ]
    },
    {
      "cell_type": "code",
      "metadata": {
        "id": "n2Ss-eZCl90M"
      },
      "source": [
        ""
      ],
      "execution_count": null,
      "outputs": []
    }
  ]
}