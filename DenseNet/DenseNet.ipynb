{
  "nbformat": 4,
  "nbformat_minor": 0,
  "metadata": {
    "colab": {
      "name": "DenseNet.ipynb",
      "provenance": [],
      "collapsed_sections": []
    },
    "kernelspec": {
      "name": "python3",
      "display_name": "Python 3"
    },
    "language_info": {
      "name": "python"
    }
  },
  "cells": [
    {
      "cell_type": "code",
      "metadata": {
        "id": "hp4B3FiAaH7g"
      },
      "source": [
        "####"
      ],
      "execution_count": 1,
      "outputs": []
    },
    {
      "cell_type": "code",
      "metadata": {
        "id": "wucywwXKazi4"
      },
      "source": [
        "import torch\n",
        "from torch import nn"
      ],
      "execution_count": 2,
      "outputs": []
    },
    {
      "cell_type": "code",
      "metadata": {
        "id": "Xr7Ys6R4cPMM"
      },
      "source": [
        "device = torch.device('cuda' if torch.cuda.is_available() else 'cpu')"
      ],
      "execution_count": 3,
      "outputs": []
    },
    {
      "cell_type": "code",
      "metadata": {
        "id": "qtPq8IaAa2XV"
      },
      "source": [
        "class Conv(nn.Module):\n",
        "    def __init__(self ,\n",
        "                 in_channels , \n",
        "                 out_channels , \n",
        "                 kernel_size = (3 , 3) , \n",
        "                 stride = (1 , 1) , \n",
        "                 padding = 1 , \n",
        "                 use_norm = True , \n",
        "                 use_activation = True ):\n",
        "        super(Conv , self).__init__()\n",
        "\n",
        "        self.use_norm = use_norm\n",
        "        self.use_activation = use_activation\n",
        "\n",
        "\n",
        "        self.conv1 = nn.Conv2d(in_channels , \n",
        "                               out_channels ,\n",
        "                               kernel_size , \n",
        "                               stride , \n",
        "                               padding)\n",
        "        if self.use_norm:\n",
        "            self.norm = nn.InstanceNorm2d(out_channels)\n",
        "        if self.use_activation:\n",
        "            self.activation = nn.LeakyReLU(0.2)\n",
        "\n",
        "\n",
        "    def forward(self , x):\n",
        "        if self.use_norm:\n",
        "            x = self.norm(x)\n",
        "        if self.use_activation:\n",
        "            x = self.activation(x)\n",
        "        x = self.conv1(x)\n",
        "        return x"
      ],
      "execution_count": 4,
      "outputs": []
    },
    {
      "cell_type": "code",
      "metadata": {
        "id": "kMjKbbWycJ3g"
      },
      "source": [
        "x = torch.randn(2 , 3 , 512 , 512).to(device)\n",
        "conv = Conv(3 , 32 ).to(device)\n",
        "z = conv(x)\n",
        "z.shape"
      ],
      "execution_count": null,
      "outputs": []
    },
    {
      "cell_type": "code",
      "metadata": {
        "id": "O6oT9Ke5cjs1"
      },
      "source": [
        "class DenseNet_Conv(nn.Module):\n",
        "    def __init__(self, \n",
        "                 in_channels ,\n",
        "                 out_channels):\n",
        "        super(DenseNet_Conv , self).__init__()\n",
        "\n",
        "        self.conv1 = Conv(in_channels , \n",
        "                          in_channels , \n",
        "                          kernel_size=(1 , 1) , \n",
        "                          stride = (1 , 1) , \n",
        "                          padding = 0)\n",
        "        self.conv2 = Conv(in_channels , \n",
        "                          out_channels)\n",
        "        \n",
        "    def forward(self , x):\n",
        "        x = self.conv1(x)\n",
        "        x = self.conv2(x)\n",
        "        return x"
      ],
      "execution_count": 6,
      "outputs": []
    },
    {
      "cell_type": "code",
      "metadata": {
        "id": "Qqu6FtlQhdmQ"
      },
      "source": [
        "x = torch.randn(2 , 3 , 512 , 512).to(device)\n",
        "conv_block = DenseNet_Conv(3 , 32).to(device)\n",
        "z = conv_block(x)\n",
        "z.shape"
      ],
      "execution_count": null,
      "outputs": []
    },
    {
      "cell_type": "code",
      "metadata": {
        "id": "KtazgsQphmkm"
      },
      "source": [
        "class DenseNet_Block(nn.Module):\n",
        "    def __init__(self , \n",
        "                 in_channels , \n",
        "                 repeats , \n",
        "                 k = 12):\n",
        "        super(DenseNet_Block , self).__init__()\n",
        "\n",
        "        self.layers = nn.ModuleList()\n",
        "        out_channels_last = 0\n",
        "        for r in range(repeats):\n",
        "            #in_channels = in_channels + out_channels_last\n",
        "            out_channels = in_channels + k \n",
        "            #print(in_channels , out_channels)\n",
        "            self.layers.append(DenseNet_Conv(in_channels , \n",
        "                                             out_channels))\n",
        "            \n",
        "            out_channels_last += in_channels\n",
        "            in_channels = out_channels + out_channels_last\n",
        "        self.out_channels = out_channels\n",
        "    def _concat(self , x , prev):\n",
        "        for prev_ in prev:\n",
        "            x = torch.cat([x , prev_] , dim=1)\n",
        "        return x\n",
        "\n",
        "    def forward(self , x):\n",
        "        prev = [x]\n",
        "        for layer in self.layers:\n",
        "            x = layer(x)\n",
        "            x = self._concat(x , prev)\n",
        "            prev.append(x)\n",
        "        return x\n"
      ],
      "execution_count": 8,
      "outputs": []
    },
    {
      "cell_type": "code",
      "metadata": {
        "id": "pdMenpiNjiTI"
      },
      "source": [
        "densenet_block = DenseNet_Block(3 , 4).to(device)\n",
        "x = torch.randn(2 , 3 , 512 , 512).to(device)\n",
        "z = densenet_block(x)\n",
        "z.shape"
      ],
      "execution_count": null,
      "outputs": []
    },
    {
      "cell_type": "code",
      "metadata": {
        "id": "XZzh40AMv90f"
      },
      "source": [
        "config = [\n",
        "          #[out_channels , kernel_size , stride , padding]\n",
        "          [512 , (7 , 7) , (2 , 2) , 3] , \n",
        "          ('P' , (3 , 3) , (2 , 2)) ,  # Tuple => (padding , (kernel_size) , (stride))\n",
        "          \n",
        "          6 , # int => DenseNet Block\n",
        "          ('P' , (2 , 2) , (2 , 2)) , \n",
        "\n",
        "          12 , \n",
        "          ('P' , (2 , 2) , (2 , 2)) , \n",
        "\n",
        "          24 , \n",
        "          ('P' , (2 , 2) , (2 , 2)) , \n",
        "\n",
        "          16 , \n",
        "          ('P' , (2 , 2) , (2 , 2)) , \n",
        "]"
      ],
      "execution_count": 10,
      "outputs": []
    },
    {
      "cell_type": "code",
      "metadata": {
        "id": "DLUyyRjJyerD"
      },
      "source": [
        "class DenseNet(nn.Module):\n",
        "    def __init__(self , \n",
        "                 in_channels , \n",
        "                 config = config):\n",
        "        super(DenseNet , self).__init__()\n",
        "\n",
        "        self.layers = nn.ModuleList()\n",
        "        out_channels_list = [128 , 256 , 512 , 1024]\n",
        "        i = 0\n",
        "        for  layer in config:\n",
        "            if isinstance(layer , list):\n",
        "                out_channels , kernel_size , stride , padding = layer\n",
        "                self.layers.append(Conv(in_channels , out_channels , kernel_size , stride , padding))\n",
        "                in_channels = out_channels\n",
        "            elif isinstance(layer , tuple):\n",
        "                kernel_size , stride = layer[1] , layer[2]\n",
        "                self.layers.append(nn.MaxPool2d(kernel_size , stride))\n",
        "            elif isinstance(layer , int):\n",
        "                repeats = layer\n",
        "                a = DenseNet_Block(in_channels , repeats)\n",
        "                self.layers.append(a)\n",
        "                in_channels = a.out_channels\n",
        "                out_channels = out_channels_list[i]\n",
        "                self.layers.append(Conv(in_channels , out_channels , kernel_size=(1 , 1) , stride=(1 , 1) , padding=0))\n",
        "                i += 1\n",
        "                in_channels = out_channels\n",
        "\n",
        "                \n",
        "    def forward(self , x):\n",
        "        for layer in self.layers:\n",
        "            x = layer(x)\n",
        "        return x"
      ],
      "execution_count": 24,
      "outputs": []
    },
    {
      "cell_type": "code",
      "metadata": {
        "id": "fuUw3WKay1Yh"
      },
      "source": [
        "densenet = DenseNet(3).to(device)\n",
        "x = torch.randn(2 , 3 , 112 , 112).to(device)\n",
        "z = densenet(x)\n",
        "print(z.shape)"
      ],
      "execution_count": null,
      "outputs": []
    },
    {
      "cell_type": "code",
      "metadata": {
        "id": "4tI5lu6kH-hu"
      },
      "source": [
        ""
      ],
      "execution_count": null,
      "outputs": []
    }
  ]
}