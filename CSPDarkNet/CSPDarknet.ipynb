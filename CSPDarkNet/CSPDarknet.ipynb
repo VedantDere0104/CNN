{
  "nbformat": 4,
  "nbformat_minor": 0,
  "metadata": {
    "colab": {
      "name": "CSPDarknet.ipynb",
      "provenance": [],
      "collapsed_sections": []
    },
    "kernelspec": {
      "name": "python3",
      "display_name": "Python 3"
    },
    "language_info": {
      "name": "python"
    },
    "accelerator": "GPU"
  },
  "cells": [
    {
      "cell_type": "code",
      "metadata": {
        "id": "BFO_HWgQHuBt"
      },
      "source": [
        "####"
      ],
      "execution_count": 1,
      "outputs": []
    },
    {
      "cell_type": "code",
      "metadata": {
        "id": "b2bIC1rjHwPC"
      },
      "source": [
        "import torch\n",
        "from torch import nn"
      ],
      "execution_count": 2,
      "outputs": []
    },
    {
      "cell_type": "code",
      "metadata": {
        "id": "ScxK_6FfRUNX"
      },
      "source": [
        "device = torch.device('cuda' if torch.cuda.is_available() else 'cpu')"
      ],
      "execution_count": 3,
      "outputs": []
    },
    {
      "cell_type": "code",
      "metadata": {
        "id": "bq1zU6KLHxyw"
      },
      "source": [
        "class Conv(nn.Module):\n",
        "    def __init__(self ,\n",
        "                 in_channels , \n",
        "                 out_channels , \n",
        "                 kernel_size = (3 , 3) , \n",
        "                 stride = (1 , 1) , \n",
        "                 padding = 1 , \n",
        "                 use_norm = True , \n",
        "                 use_activation = True , \n",
        "                 use_pooling = False):\n",
        "        super(Conv , self).__init__()\n",
        "\n",
        "        self.use_norm = use_norm\n",
        "        self.use_activation = use_activation\n",
        "        self.use_pooling = use_pooling\n",
        "\n",
        "        self.conv1 = nn.Conv2d(in_channels , \n",
        "                               out_channels ,\n",
        "                               kernel_size , \n",
        "                               stride , \n",
        "                               padding)\n",
        "        if self.use_norm:\n",
        "            self.norm = nn.InstanceNorm2d(out_channels)\n",
        "        if self.use_activation:\n",
        "            self.activation = nn.LeakyReLU(0.2)\n",
        "\n",
        "        if self.use_pooling:\n",
        "            self.pooling = nn.MaxPool2d(kernel_size=(2 , 2) , stride=(2 , 2))\n",
        "\n",
        "    def forward(self , x):\n",
        "\n",
        "        x = self.conv1(x)\n",
        "        if self.use_norm:\n",
        "            x = self.norm(x)\n",
        "        if self.use_activation:\n",
        "            x = self.activation(x)\n",
        "        if self.use_pooling:\n",
        "            x = self.pooling(x)\n",
        "        return x"
      ],
      "execution_count": 4,
      "outputs": []
    },
    {
      "cell_type": "code",
      "metadata": {
        "id": "SxvB3AkBKNds"
      },
      "source": [
        "class Darknet_Conv(nn.Module):\n",
        "    def __init__(self ,\n",
        "                 in_channels , \n",
        "                 out_channels):\n",
        "        super(Darknet_Conv , self).__init__()\n",
        "\n",
        "        self.conv1 = Conv(in_channels , \n",
        "                          in_channels , \n",
        "                          kernel_size = (1 , 1) , \n",
        "                          stride = (1 , 1) , \n",
        "                          padding = 0)\n",
        "        self.conv2 = Conv(in_channels , in_channels)\n",
        "        self.conv3 = Conv(in_channels , \n",
        "                          out_channels , \n",
        "                          kernel_size=(1 , 1) , \n",
        "                          stride = (1 ,1 ) , \n",
        "                          padding = 0)\n",
        "\n",
        "    def forward(self , x):\n",
        "        x_ = x.clone()\n",
        "        x = self.conv1(x)\n",
        "        x = self.conv2(x)\n",
        "        x += x_\n",
        "        x = self.conv3(x)\n",
        "        return x"
      ],
      "execution_count": 5,
      "outputs": []
    },
    {
      "cell_type": "code",
      "metadata": {
        "id": "YOwzc9tWQzs8"
      },
      "source": [
        "x = torch.randn(2 , 3 , 64 , 64).to(device)\n",
        "darknet_conv = Darknet_Conv(3 , 32).to(device)\n",
        "z = darknet_conv(x)\n",
        "z.shape"
      ],
      "execution_count": null,
      "outputs": []
    },
    {
      "cell_type": "code",
      "metadata": {
        "id": "PE_1gF-STU96"
      },
      "source": [
        "class DenseNet_Block(nn.Module):\n",
        "    def __init__(self , \n",
        "                 in_channels , \n",
        "                 repeats , \n",
        "                 k = 12):\n",
        "        super(DenseNet_Block , self).__init__()\n",
        "\n",
        "        self.layers = nn.ModuleList()\n",
        "        out_channels_last = 0\n",
        "        in_channels_conv = in_channels // 3\n",
        "        self.remaining_in_channels = in_channels - in_channels_conv\n",
        "\n",
        "        self.in_channels_ = in_channels\n",
        "        self.in_channels_conv_ = in_channels_conv\n",
        "        for r in range(repeats):\n",
        "            #in_channels = in_channels + out_channels_last\n",
        "            out_channels = in_channels_conv + k \n",
        "            #print(in_channels , out_channels)\n",
        "            self.layers.append(Darknet_Conv(in_channels_conv , \n",
        "                                             out_channels))\n",
        "            \n",
        "            out_channels_last += in_channels_conv\n",
        "            in_channels_conv = out_channels + out_channels_last\n",
        "        #print(out_channels)\n",
        "        self.out_channels = out_channels + self.remaining_in_channels+ out_channels_last\n",
        "\n",
        "        \n",
        "    def _concat(self , x , prev):\n",
        "        for prev_ in prev:\n",
        "            x = torch.cat([x , prev_] , dim=1)\n",
        "        return x\n",
        "\n",
        "    def forward(self , x):\n",
        "        x_cpy = x.clone()\n",
        "        x = x[: , :self.in_channels_conv_ , : , :]\n",
        "        x_ = x_cpy[: , self.in_channels_conv_ : self.in_channels_ , : , :]\n",
        "        #print(x_.shape)\n",
        "        prev = [x]\n",
        "        for layer in self.layers:\n",
        "            #print(x.shape)\n",
        "            x = layer(x)\n",
        "            x = self._concat(x , prev)\n",
        "            prev.append(x)\n",
        "        #print(x.shape , x_.shape)\n",
        "        x = torch.cat([x , x_] , dim=1)\n",
        "        return x"
      ],
      "execution_count": 7,
      "outputs": []
    },
    {
      "cell_type": "code",
      "metadata": {
        "id": "sDH4iFFfTltD"
      },
      "source": [
        "densenet_block = DenseNet_Block(3 , 3).to(device)\n",
        "x = torch.randn(2 , 3 , 112 , 112).to(device)\n",
        "z = densenet_block(x)\n",
        "z.shape"
      ],
      "execution_count": null,
      "outputs": []
    },
    {
      "cell_type": "code",
      "metadata": {
        "id": "FcjiLG6TRehp"
      },
      "source": [
        "config = [\n",
        "          [64 , (3 , 3) , (1 , 1) , 1 , True , True , True] ,  # [out_channels , kernel_size , stride , padding , norm , activation , pooling]\n",
        "          1 , \n",
        "          [128 , (3 , 3) , (1 , 1) , 1 , True , True , True] , \n",
        "          2 , \n",
        "          [256 , (3 , 3) , (1 , 1) , 1 , True , True , True] , \n",
        "          8 , \n",
        "          [512 , (3 , 3) , (1 , 1) , 1 , True , True , True] , \n",
        "          8 , \n",
        "          [1024 , (3 , 3) , (1 , 1) , 1 , True , True , True] , \n",
        "          4\n",
        "]       "
      ],
      "execution_count": 9,
      "outputs": []
    },
    {
      "cell_type": "code",
      "metadata": {
        "id": "OdNEQx0STRot"
      },
      "source": [
        "class CSPDarknet(nn.Module):\n",
        "    def __init__(self , \n",
        "                 in_channels , \n",
        "                 config = config):\n",
        "        super(CSPDarknet , self).__init__()\n",
        "\n",
        "        self.layers = nn.ModuleList()\n",
        "        out_channels_list = [64 , 128 , 256 , 512 , 1024]\n",
        "        i = 0\n",
        "        for  layer in config:\n",
        "            if isinstance(layer , list):\n",
        "                out_channels , kernel_size , stride , padding , use_norm , use_activation , use_padding = layer\n",
        "                self.layers.append(Conv(in_channels , out_channels , kernel_size , stride , padding , use_norm , use_activation , use_padding))\n",
        "                in_channels = out_channels\n",
        "\n",
        "            elif isinstance(layer , int):\n",
        "                repeats = layer\n",
        "                a = DenseNet_Block(in_channels , repeats)\n",
        "                self.layers.append(a)\n",
        "                in_channels = a.out_channels\n",
        "                out_channels = out_channels_list[i]\n",
        "                self.layers.append(Conv(in_channels , out_channels , kernel_size=(1 , 1) , stride=(1 , 1) , padding=0))\n",
        "                i += 1\n",
        "                in_channels = out_channels\n",
        "\n",
        "                \n",
        "    def forward(self , x):\n",
        "        for layer in self.layers:\n",
        "            x = layer(x)\n",
        "        return x"
      ],
      "execution_count": 10,
      "outputs": []
    },
    {
      "cell_type": "code",
      "metadata": {
        "id": "2q4bB33PT86B"
      },
      "source": [
        "cspdensenet = CSPDarknet(3).to(device)\n",
        "x = torch.randn(2 , 3 , 416 , 416).to(device)\n",
        "z = cspdensenet(x)\n",
        "print(z.shape)"
      ],
      "execution_count": null,
      "outputs": []
    },
    {
      "cell_type": "code",
      "metadata": {
        "id": "RO1cdb-2T-by"
      },
      "source": [
        ""
      ],
      "execution_count": 11,
      "outputs": []
    }
  ]
}