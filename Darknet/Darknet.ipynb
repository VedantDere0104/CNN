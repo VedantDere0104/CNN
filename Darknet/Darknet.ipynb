{
  "nbformat": 4,
  "nbformat_minor": 0,
  "metadata": {
    "colab": {
      "name": "Darknet.ipynb",
      "provenance": [],
      "collapsed_sections": []
    },
    "kernelspec": {
      "name": "python3",
      "display_name": "Python 3"
    },
    "language_info": {
      "name": "python"
    }
  },
  "cells": [
    {
      "cell_type": "code",
      "metadata": {
        "id": "7Cbx3i5MgjgY"
      },
      "source": [
        "####"
      ],
      "execution_count": 17,
      "outputs": []
    },
    {
      "cell_type": "code",
      "metadata": {
        "id": "Dm4xytmGgmGO"
      },
      "source": [
        "import torch \n",
        "from torch import nn"
      ],
      "execution_count": 18,
      "outputs": []
    },
    {
      "cell_type": "code",
      "metadata": {
        "id": "gTN88Mrwk_vA"
      },
      "source": [
        "device = torch.device('cuda' if torch.cuda.is_available() else 'cpu')"
      ],
      "execution_count": 19,
      "outputs": []
    },
    {
      "cell_type": "code",
      "metadata": {
        "id": "lDOpQHphgoSg"
      },
      "source": [
        "class Conv(nn.Module):\n",
        "    def __init__(self , \n",
        "                 in_channels , \n",
        "                 out_channels , \n",
        "                 kernel_size = (3 , 3) , \n",
        "                 stride = (1 , 1) , \n",
        "                 padding = 1 , \n",
        "                 use_norm = True , \n",
        "                 use_activation = True , \n",
        "                 use_pool = False):\n",
        "        super(Conv , self).__init__()\n",
        "\n",
        "        self.use_norm = use_norm\n",
        "        self.use_activation = use_activation\n",
        "        self.use_pool = use_pool\n",
        "\n",
        "        self.conv1 = nn.Conv2d(in_channels , \n",
        "                               out_channels , \n",
        "                               kernel_size , \n",
        "                               stride , \n",
        "                               padding)\n",
        "        if self.use_norm:\n",
        "            self.norm = nn.InstanceNorm2d(out_channels)\n",
        "        if self.use_activation:\n",
        "            self.activation = nn.LeakyReLU(0.2)\n",
        "        if self.use_pool:\n",
        "            self.max_pool = nn.MaxPool2d(kernel_size=(2 , 2) , stride=(2 , 2))\n",
        "\n",
        "    def forward(self , x):\n",
        "        x = self.conv1(x)\n",
        "        if self.use_norm:\n",
        "            x = self.norm(x)\n",
        "        if self.use_activation:\n",
        "            x = self.activation(x)\n",
        "        if self.use_pool:\n",
        "            x = self.max_pool(x)\n",
        "        return x"
      ],
      "execution_count": 20,
      "outputs": []
    },
    {
      "cell_type": "code",
      "metadata": {
        "id": "IGrHAYahhb8T"
      },
      "source": [
        "class Residual_Block(nn.Module):\n",
        "    def __init__(self ,\n",
        "                 in_channels , \n",
        "                 use_pool = False):\n",
        "        super(Residual_Block , self).__init__()\n",
        "\n",
        "        self.conv1 = Conv(in_channels , in_channels , use_pool=use_pool)\n",
        "\n",
        "    def forward(self , x):\n",
        "        x_ = x.clone()\n",
        "        x = self.conv1(x)\n",
        "        x += x_\n",
        "        return x"
      ],
      "execution_count": 21,
      "outputs": []
    },
    {
      "cell_type": "code",
      "metadata": {
        "id": "8LRw6O0sh1yT"
      },
      "source": [
        "class Darknet_Block(nn.Module):\n",
        "    def __init__(self , \n",
        "                 in_channels ,  \n",
        "                 use_pool = False):\n",
        "        super(Darknet_Block , self).__init__()\n",
        "\n",
        "        self.conv1 = Conv(in_channels , in_channels // 2 , kernel_size=(1 , 1) , stride=(1 , 1) , padding = 0)\n",
        "        self.conv2 = Conv(in_channels //2 , in_channels)\n",
        "        self.residual = Residual_Block(in_channels , use_pool=use_pool)\n",
        "\n",
        "    def forward(self , x):\n",
        "        x_ = x.clone()\n",
        "        x = self.conv1(x)\n",
        "        x = self.conv2(x)\n",
        "        x = self.residual(x)\n",
        "        x += x_\n",
        "        return x"
      ],
      "execution_count": 22,
      "outputs": []
    },
    {
      "cell_type": "code",
      "metadata": {
        "id": "ApO378hDiikD"
      },
      "source": [
        "config = [\n",
        "          [32 , (3 , 3) , (1 , 1) , 1 , True , True , False] , # [out_channels , kernel_size , stride , padding , use_norm , use_activation , use_pool]\n",
        "          [64 , (3 , 3) , (2 , 2) , 1 , True , True , False]  ,\n",
        "          (64 , 1) , \n",
        "          [128 , (3 , 3) , (2 , 2) , 1 , True , True , False] ,\n",
        "          (128 , 2) , \n",
        "          [256 , (3 , 3) , (2 , 2) , 1 , True , True , False] ,\n",
        "          (256 , 8) , \n",
        "          [512 , (3 , 3) , (2 , 2) , 1 , True , True , False] ,\n",
        "          (512 , 8), \n",
        "          [1024 , (3 , 3) , (2 , 2) , 1 , True , True , False] ,\n",
        "          (1024 , 4)\n",
        "]"
      ],
      "execution_count": 26,
      "outputs": []
    },
    {
      "cell_type": "code",
      "metadata": {
        "id": "24uSYaqHj76n"
      },
      "source": [
        "class Darknet(nn.Module):\n",
        "    def __init__(self , \n",
        "                 in_channels , \n",
        "                 out_channels_last = 1000 , \n",
        "                 config = config):\n",
        "        super(Darknet , self).__init__()\n",
        "\n",
        "        self.layers = nn.ModuleList()\n",
        "        self.adp_pool = nn.AdaptiveAvgPool2d((1 , 1))\n",
        "        for layer in config:\n",
        "            if isinstance(layer , list):\n",
        "                out_channels , kernel_size , stride , padding , use_norm , use_activation , use_pool = layer\n",
        "                self.layers.append(Conv(\n",
        "                    in_channels , \n",
        "                    out_channels ,\n",
        "                    kernel_size , \n",
        "                    stride ,\n",
        "                    padding , \n",
        "                    use_norm , \n",
        "                    use_activation , \n",
        "                    use_pool\n",
        "                ))\n",
        "                in_channels = out_channels\n",
        "            elif isinstance(layer , tuple):\n",
        "                out_channels , repeats = layer\n",
        "                for _ in range(repeats):\n",
        "                    self.layers.append(Residual_Block(out_channels))\n",
        "                in_channels = out_channels\n",
        "        self.linear = nn.Linear(in_channels , out_channels_last)\n",
        "        \n",
        "    def forward(self , x):\n",
        "        for layer in self.layers:\n",
        "            x = layer(x)\n",
        "        x = self.adp_pool(x)\n",
        "        x = self.linear(x.squeeze(-1).squeeze(-1))\n",
        "        return x"
      ],
      "execution_count": 29,
      "outputs": []
    },
    {
      "cell_type": "code",
      "metadata": {
        "id": "pzDkPpmwk7NT"
      },
      "source": [
        "x = torch.randn(2 , 3 , 256 , 256).to(device)\n",
        "darknet = Darknet(3).to(device)\n",
        "z = darknet(x)\n",
        "z.shape"
      ],
      "execution_count": null,
      "outputs": []
    },
    {
      "cell_type": "code",
      "metadata": {
        "id": "slQY7LKjlKDx"
      },
      "source": [
        ""
      ],
      "execution_count": 25,
      "outputs": []
    }
  ]
}